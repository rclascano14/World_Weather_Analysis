{
 "cells": [
  {
   "cell_type": "code",
   "execution_count": 1,
   "id": "89209486",
   "metadata": {},
   "outputs": [],
   "source": [
    "# Import the dependencies.\n",
    "import pandas as pd\n",
    "import matplotlib.pyplot as plt\n",
    "import numpy as np"
   ]
  },
  {
   "cell_type": "code",
   "execution_count": 2,
   "id": "94648fd3",
   "metadata": {},
   "outputs": [
    {
     "data": {
      "text/plain": [
       "<zip at 0x7fb4cca63f50>"
      ]
     },
     "execution_count": 2,
     "metadata": {},
     "output_type": "execute_result"
    }
   ],
   "source": [
    "# Create a set of random latitude and longitude combinations.\n",
    "lats = np.random.uniform(low=-90.000, high=90.000, size=1500)\n",
    "lngs = np.random.uniform(low=-180.000, high=180.000, size=1500)\n",
    "lat_lngs = zip(lats, lngs)\n",
    "lat_lngs"
   ]
  },
  {
   "cell_type": "code",
   "execution_count": 3,
   "id": "82642529",
   "metadata": {},
   "outputs": [],
   "source": [
    "# Add the latitudes and longitudes to a list.\n",
    "coordinates = list(lat_lngs)"
   ]
  },
  {
   "cell_type": "code",
   "execution_count": 4,
   "id": "1b542ddf",
   "metadata": {},
   "outputs": [],
   "source": [
    "# Use the citipy module to determine city based on latitude and longitude.\n",
    "from citipy import citipy"
   ]
  },
  {
   "cell_type": "code",
   "execution_count": 5,
   "id": "a97a730d",
   "metadata": {},
   "outputs": [
    {
     "data": {
      "text/plain": [
       "615"
      ]
     },
     "execution_count": 5,
     "metadata": {},
     "output_type": "execute_result"
    }
   ],
   "source": [
    "# Create a list for holding the cities.\n",
    "cities = []\n",
    "# Identify the nearest city for each latitude and longitude combination.\n",
    "for coordinate in coordinates:\n",
    "    city = citipy.nearest_city(coordinate[0], coordinate[1]).city_name\n",
    "\n",
    "    # If the city is unique, then we will add it to the cities list.\n",
    "    if city not in cities:\n",
    "        cities.append(city)\n",
    "# Print the city count to confirm sufficient count.\n",
    "len(cities)"
   ]
  },
  {
   "cell_type": "code",
   "execution_count": 6,
   "id": "b6407706",
   "metadata": {
    "scrolled": false
   },
   "outputs": [],
   "source": [
    "# Import the requests library.\n",
    "import requests\n",
    "\n",
    "# Import the API key.\n",
    "from config import weather_api_key"
   ]
  },
  {
   "cell_type": "code",
   "execution_count": 7,
   "id": "d3765e7a",
   "metadata": {
    "scrolled": true
   },
   "outputs": [
    {
     "name": "stdout",
     "output_type": "stream",
     "text": [
      "http://api.openweathermap.org/data/2.5/weather?units=Imperial&APPID=3567429ccc3fcaf71cfa32235a63b7e7\n"
     ]
    }
   ],
   "source": [
    "# Starting URL for Weather Map API Call.\n",
    "url = \"http://api.openweathermap.org/data/2.5/weather?units=Imperial&APPID=\" + weather_api_key\n",
    "print(url)"
   ]
  },
  {
   "cell_type": "code",
   "execution_count": 8,
   "id": "3d075c61",
   "metadata": {},
   "outputs": [],
   "source": [
    "# Import the time library and the datetime module from the datetime library \n",
    "import time\n",
    "from datetime import datetime"
   ]
  },
  {
   "cell_type": "code",
   "execution_count": 9,
   "id": "c9c6c102",
   "metadata": {
    "scrolled": true
   },
   "outputs": [
    {
     "name": "stdout",
     "output_type": "stream",
     "text": [
      "Beginning Data Retrieval     \n",
      "-----------------------------\n"
     ]
    }
   ],
   "source": [
    "# Create an empty list to hold the weather data.\n",
    "city_data = []\n",
    "# Print the beginning of the logging.\n",
    "print(\"Beginning Data Retrieval     \")\n",
    "print(\"-----------------------------\")\n",
    "\n",
    "# Create counters.\n",
    "record_count = 1\n",
    "set_count = 1"
   ]
  },
  {
   "cell_type": "code",
   "execution_count": 74,
   "id": "bcd13479",
   "metadata": {},
   "outputs": [],
   "source": [
    "# Loop through all the cities in our list.\n",
    "for i in range(len(cities)):\n",
    "\n",
    "    # Group cities in sets of 50 for logging purposes.\n",
    "    if (i % 50 == 0 and i >= 50):\n",
    "        set_count += 1\n",
    "        record_count = 1\n",
    "        time.sleep(60)\n",
    "\n",
    "    # Create endpoint URL with each city.\n",
    "    city_url = url + \"&q=\" + cities[i]"
   ]
  },
  {
   "cell_type": "code",
   "execution_count": 73,
   "id": "2f26dc4a",
   "metadata": {
    "scrolled": true
   },
   "outputs": [
    {
     "name": "stdout",
     "output_type": "stream",
     "text": [
      "Processing Record 1 of Set 113 | ixtapa\n",
      "Processing Record 2 of Set 113 | barentsburg\n",
      "Processing Record 3 of Set 113 | taolanaro\n",
      "Processing Record 4 of Set 113 | san clemente\n",
      "Processing Record 5 of Set 113 | vrangel\n",
      "Processing Record 6 of Set 113 | saint-philippe\n",
      "Processing Record 7 of Set 113 | busselton\n",
      "Processing Record 8 of Set 113 | nikolskoye\n",
      "Processing Record 9 of Set 113 | rikitea\n",
      "Processing Record 10 of Set 113 | bud\n",
      "Processing Record 11 of Set 113 | harper\n",
      "Processing Record 12 of Set 113 | akureyri\n",
      "Processing Record 13 of Set 113 | ushuaia\n",
      "Processing Record 14 of Set 113 | butaritari\n",
      "Processing Record 15 of Set 113 | yumen\n",
      "Processing Record 16 of Set 113 | vaini\n",
      "Processing Record 17 of Set 113 | baculin\n",
      "Processing Record 18 of Set 113 | santa isabel do rio negro\n",
      "Processing Record 19 of Set 113 | yulara\n",
      "Processing Record 20 of Set 113 | illoqqortoormiut\n",
      "Processing Record 21 of Set 113 | punta arenas\n",
      "Processing Record 22 of Set 113 | atuona\n",
      "Processing Record 23 of Set 113 | pontes e lacerda\n",
      "Processing Record 24 of Set 113 | camacupa\n",
      "Processing Record 25 of Set 113 | samusu\n",
      "Processing Record 26 of Set 113 | honiara\n",
      "Processing Record 27 of Set 113 | puerto leguizamo\n",
      "Processing Record 28 of Set 113 | bengkulu\n",
      "Processing Record 29 of Set 113 | hermanus\n",
      "Processing Record 30 of Set 113 | kungurtug\n",
      "Processing Record 31 of Set 113 | kibre mengist\n",
      "Processing Record 32 of Set 113 | dikson\n",
      "Processing Record 33 of Set 113 | kekri\n",
      "Processing Record 34 of Set 113 | parana\n",
      "Processing Record 35 of Set 113 | grand gaube\n",
      "Processing Record 36 of Set 113 | beringovskiy\n",
      "Processing Record 37 of Set 113 | severodvinsk\n",
      "Processing Record 38 of Set 113 | palabuhanratu\n",
      "Processing Record 39 of Set 113 | cape town\n",
      "Processing Record 40 of Set 113 | raudeberg\n",
      "Processing Record 41 of Set 113 | iskateley\n",
      "Processing Record 42 of Set 113 | jamestown\n",
      "Processing Record 43 of Set 113 | bereda\n",
      "Processing Record 44 of Set 113 | namibe\n",
      "Processing Record 45 of Set 113 | pisco\n",
      "Processing Record 46 of Set 113 | dinsor\n",
      "Processing Record 47 of Set 113 | amapa\n",
      "Processing Record 48 of Set 113 | puerto ayora\n",
      "Processing Record 49 of Set 113 | hasaki\n",
      "Processing Record 50 of Set 113 | lorengau\n",
      "Processing Record 1 of Set 114 | foix\n",
      "Processing Record 2 of Set 114 | kapaa\n",
      "Processing Record 3 of Set 114 | mataura\n",
      "Processing Record 4 of Set 114 | arraial do cabo\n",
      "Processing Record 5 of Set 114 | corinto\n",
      "Processing Record 6 of Set 114 | kashiwazaki\n",
      "Processing Record 7 of Set 114 | hobart\n",
      "Processing Record 8 of Set 114 | karistos\n",
      "Processing Record 9 of Set 114 | upernavik\n",
      "Processing Record 10 of Set 114 | cockburn town\n",
      "Processing Record 11 of Set 114 | atessa\n",
      "Processing Record 12 of Set 114 | nhamunda\n",
      "Processing Record 13 of Set 114 | amderma\n",
      "Processing Record 14 of Set 114 | cidreira\n",
      "Processing Record 15 of Set 114 | avarua\n",
      "Processing Record 16 of Set 114 | uniao\n",
      "Processing Record 17 of Set 114 | belushya guba\n",
      "Processing Record 18 of Set 114 | da nang\n",
      "Processing Record 19 of Set 114 | alofi\n",
      "Processing Record 20 of Set 114 | santo antonio do ica\n",
      "Processing Record 21 of Set 114 | pevek\n",
      "Processing Record 22 of Set 114 | naryan-mar\n",
      "Processing Record 23 of Set 114 | fortuna\n",
      "Processing Record 24 of Set 114 | katyuzhanka\n",
      "Processing Record 25 of Set 114 | katsuura\n",
      "Processing Record 26 of Set 114 | lompoc\n",
      "Processing Record 27 of Set 114 | ponta do sol\n",
      "Processing Record 28 of Set 114 | qaanaaq\n",
      "Processing Record 29 of Set 114 | saskylakh\n",
      "Processing Record 30 of Set 114 | karratha\n",
      "Processing Record 31 of Set 114 | port alfred\n",
      "Processing Record 32 of Set 114 | lagoa\n",
      "Processing Record 33 of Set 114 | tsihombe\n",
      "Processing Record 34 of Set 114 | camacari\n",
      "Processing Record 35 of Set 114 | prince rupert\n",
      "Processing Record 36 of Set 114 | velyka bahachka\n",
      "Processing Record 37 of Set 114 | harlingen\n",
      "Processing Record 38 of Set 114 | husavik\n",
      "Processing Record 39 of Set 114 | north vanlaiphai\n",
      "Processing Record 40 of Set 114 | skalistyy\n",
      "Processing Record 41 of Set 114 | yarmouth\n",
      "Processing Record 42 of Set 114 | yerbogachen\n",
      "Processing Record 43 of Set 114 | pirgos\n",
      "Processing Record 44 of Set 114 | klaksvik\n",
      "Processing Record 45 of Set 114 | castro\n",
      "Processing Record 46 of Set 114 | clyde river\n",
      "Processing Record 47 of Set 114 | adrar\n",
      "Processing Record 48 of Set 114 | antofagasta\n",
      "Processing Record 49 of Set 114 | chuy\n",
      "Processing Record 50 of Set 114 | the valley\n",
      "Processing Record 1 of Set 115 | gweta\n",
      "Processing Record 2 of Set 115 | ostrovnoy\n",
      "Processing Record 3 of Set 115 | alta floresta\n",
      "Processing Record 4 of Set 115 | lebu\n",
      "Processing Record 5 of Set 115 | georgetown\n",
      "Processing Record 6 of Set 115 | new norfolk\n",
      "Processing Record 7 of Set 115 | esperance\n",
      "Processing Record 8 of Set 115 | praia da vitoria\n",
      "Processing Record 9 of Set 115 | dzhebariki-khaya\n",
      "Processing Record 10 of Set 115 | lavrentiya\n",
      "Processing Record 11 of Set 115 | bluff\n",
      "Processing Record 12 of Set 115 | albany\n",
      "Processing Record 13 of Set 115 | mecca\n",
      "Processing Record 14 of Set 115 | yellowknife\n",
      "Processing Record 15 of Set 115 | kununurra\n",
      "Processing Record 16 of Set 115 | san policarpo\n",
      "Processing Record 17 of Set 115 | sarankhola\n",
      "Processing Record 18 of Set 115 | nome\n",
      "Processing Record 19 of Set 115 | hilo\n",
      "Processing Record 20 of Set 115 | kaitangata\n",
      "Processing Record 21 of Set 115 | marcona\n",
      "Processing Record 22 of Set 115 | mitsamiouli\n",
      "Processing Record 23 of Set 115 | havre-saint-pierre\n",
      "Processing Record 24 of Set 115 | kahului\n",
      "Processing Record 25 of Set 115 | rondonopolis\n",
      "Processing Record 26 of Set 115 | sagua la grande\n",
      "Processing Record 27 of Set 115 | victoria\n",
      "Processing Record 28 of Set 115 | pemberton\n",
      "Processing Record 29 of Set 115 | grand-bourg\n",
      "Processing Record 30 of Set 115 | mar del plata\n",
      "Processing Record 31 of Set 115 | atar\n",
      "Processing Record 32 of Set 115 | rimos\n",
      "Processing Record 33 of Set 115 | aklavik\n",
      "Processing Record 34 of Set 115 | maarianhamina\n",
      "Processing Record 35 of Set 115 | bredasdorp\n",
      "Processing Record 36 of Set 115 | narsaq\n",
      "Processing Record 37 of Set 115 | karakendzha\n",
      "Processing Record 38 of Set 115 | seoul\n",
      "Processing Record 39 of Set 115 | gitega\n",
      "Processing Record 40 of Set 115 | bambous virieux\n",
      "Processing Record 41 of Set 115 | bethel\n",
      "Processing Record 42 of Set 115 | bolungarvik\n",
      "Processing Record 43 of Set 115 | tasiilaq\n",
      "Processing Record 44 of Set 115 | manaure\n",
      "Processing Record 45 of Set 115 | puerto madero\n",
      "Processing Record 46 of Set 115 | norman wells\n",
      "Processing Record 47 of Set 115 | cabo san lucas\n",
      "Processing Record 48 of Set 115 | preobrazheniye\n",
      "Processing Record 49 of Set 115 | khatanga\n",
      "Processing Record 50 of Set 115 | vila do maio\n",
      "Processing Record 1 of Set 116 | ngukurr\n",
      "Processing Record 2 of Set 116 | severo-kurilsk\n",
      "Processing Record 3 of Set 116 | kruisfontein\n",
      "Processing Record 4 of Set 116 | provideniya\n",
      "Processing Record 5 of Set 116 | okakarara\n",
      "Processing Record 6 of Set 116 | nanortalik\n",
      "Processing Record 7 of Set 116 | druzhba\n",
      "Processing Record 8 of Set 116 | la ronge\n",
      "Processing Record 9 of Set 116 | laguna\n",
      "Processing Record 10 of Set 116 | east london\n",
      "Processing Record 11 of Set 116 | pacifica\n",
      "Processing Record 12 of Set 116 | mergui\n",
      "Processing Record 13 of Set 116 | vila velha\n",
      "Processing Record 14 of Set 116 | kavieng\n",
      "Processing Record 15 of Set 116 | ajdabiya\n",
      "Processing Record 16 of Set 116 | oranjemund\n",
      "Processing Record 17 of Set 116 | toliary\n",
      "Processing Record 18 of Set 116 | solomenskoye\n",
      "Processing Record 19 of Set 116 | havoysund\n",
      "Processing Record 20 of Set 116 | chihuahua\n",
      "Processing Record 21 of Set 116 | amboasary\n",
      "Processing Record 22 of Set 116 | gazli\n",
      "Processing Record 23 of Set 116 | paamiut\n",
      "Processing Record 24 of Set 116 | guatemalita\n",
      "Processing Record 25 of Set 116 | poum\n",
      "Processing Record 26 of Set 116 | san ramon de la nueva oran\n",
      "Processing Record 27 of Set 116 | hamilton\n",
      "Processing Record 28 of Set 116 | qeshm\n",
      "Processing Record 29 of Set 116 | yenagoa\n",
      "Processing Record 30 of Set 116 | tual\n",
      "Processing Record 31 of Set 116 | arona\n",
      "Processing Record 32 of Set 116 | golden rock\n",
      "Processing Record 33 of Set 116 | kamenka\n",
      "Processing Record 34 of Set 116 | leningradskiy\n",
      "Processing Record 35 of Set 116 | honolulu\n",
      "Processing Record 36 of Set 116 | port shepstone\n",
      "Processing Record 37 of Set 116 | ribeira grande\n",
      "Processing Record 38 of Set 116 | slave lake\n",
      "Processing Record 39 of Set 116 | camalu\n",
      "Processing Record 40 of Set 116 | tuktoyaktuk\n",
      "Processing Record 41 of Set 116 | carnarvon\n",
      "Processing Record 42 of Set 116 | kikwit\n",
      "Processing Record 43 of Set 116 | ganzhou\n",
      "Processing Record 44 of Set 116 | rexburg\n",
      "Processing Record 45 of Set 116 | chilca\n",
      "Processing Record 46 of Set 116 | faya\n",
      "Processing Record 47 of Set 116 | bull savanna\n",
      "Processing Record 48 of Set 116 | kibaya\n",
      "Processing Record 49 of Set 116 | tiksi\n",
      "Processing Record 50 of Set 116 | marawi\n"
     ]
    },
    {
     "name": "stdout",
     "output_type": "stream",
     "text": [
      "Processing Record 1 of Set 117 | buchanan\n",
      "Processing Record 2 of Set 117 | port hardy\n",
      "Processing Record 3 of Set 117 | pochutla\n",
      "Processing Record 4 of Set 117 | bollnas\n",
      "Processing Record 5 of Set 117 | oschersleben\n",
      "Processing Record 6 of Set 117 | harwich\n",
      "Processing Record 7 of Set 117 | hithadhoo\n",
      "Processing Record 8 of Set 117 | banjar\n",
      "Processing Record 9 of Set 117 | novo aripuana\n",
      "Processing Record 10 of Set 117 | ipora\n",
      "Processing Record 11 of Set 117 | karasburg\n",
      "Processing Record 12 of Set 117 | rorvik\n",
      "Processing Record 13 of Set 117 | mananjary\n",
      "Processing Record 14 of Set 117 | kodiak\n",
      "Processing Record 15 of Set 117 | lubango\n",
      "Processing Record 16 of Set 117 | airai\n",
      "Processing Record 17 of Set 117 | umzimvubu\n",
      "Processing Record 18 of Set 117 | cayenne\n",
      "Processing Record 19 of Set 117 | mahebourg\n",
      "Processing Record 20 of Set 117 | yongchang\n",
      "Processing Record 21 of Set 117 | nong khae\n",
      "Processing Record 22 of Set 117 | sampit\n",
      "Processing Record 23 of Set 117 | nizhneyansk\n",
      "Processing Record 24 of Set 117 | grand centre\n",
      "Processing Record 25 of Set 117 | richmond west\n",
      "Processing Record 26 of Set 117 | tonk\n",
      "Processing Record 27 of Set 117 | nipawin\n",
      "Processing Record 28 of Set 117 | itupiranga\n",
      "Processing Record 29 of Set 117 | makakilo city\n",
      "Processing Record 30 of Set 117 | kihei\n",
      "Processing Record 31 of Set 117 | alugan\n",
      "Processing Record 32 of Set 117 | barrow\n",
      "Processing Record 33 of Set 117 | burnie\n",
      "Processing Record 34 of Set 117 | attawapiskat\n",
      "Processing Record 35 of Set 117 | suwalki\n",
      "Processing Record 36 of Set 117 | keita\n",
      "Processing Record 37 of Set 117 | moche\n",
      "Processing Record 38 of Set 117 | labuhan\n",
      "Processing Record 39 of Set 117 | alberton\n",
      "Processing Record 40 of Set 117 | malakal\n",
      "Processing Record 41 of Set 117 | sentyabrskiy\n",
      "Processing Record 42 of Set 117 | yinchuan\n",
      "Processing Record 43 of Set 117 | guymon\n",
      "Processing Record 44 of Set 117 | borlange\n",
      "Processing Record 45 of Set 117 | ylivieska\n",
      "Processing Record 46 of Set 117 | thompson\n",
      "Processing Record 47 of Set 117 | vardo\n",
      "Processing Record 48 of Set 117 | chokurdakh\n",
      "Processing Record 49 of Set 117 | golkoy\n",
      "Processing Record 50 of Set 117 | santa isabel\n",
      "Processing Record 1 of Set 118 | bacolod\n",
      "Processing Record 2 of Set 118 | kosh-agach\n",
      "Processing Record 3 of Set 118 | kalemie\n",
      "Processing Record 4 of Set 118 | ponta delgada\n",
      "Processing Record 5 of Set 118 | kuah\n",
      "Processing Record 6 of Set 118 | ibotirama\n",
      "Processing Record 7 of Set 118 | yunjinghong\n",
      "Processing Record 8 of Set 118 | christchurch\n",
      "Processing Record 9 of Set 118 | la gaulette\n",
      "Processing Record 10 of Set 118 | inhambane\n",
      "Processing Record 11 of Set 118 | praya\n",
      "Processing Record 12 of Set 118 | port elizabeth\n",
      "Processing Record 13 of Set 118 | matara\n",
      "Processing Record 14 of Set 118 | orebro\n",
      "Processing Record 15 of Set 118 | nago\n",
      "Processing Record 16 of Set 118 | kunszentmiklos\n",
      "Processing Record 17 of Set 118 | kieta\n",
      "Processing Record 18 of Set 118 | muli\n",
      "Processing Record 19 of Set 118 | codrington\n",
      "Processing Record 20 of Set 118 | tuatapere\n",
      "Processing Record 21 of Set 118 | salalah\n",
      "Processing Record 22 of Set 118 | point fortin\n",
      "Processing Record 23 of Set 118 | talnakh\n",
      "Processing Record 24 of Set 118 | lasa\n",
      "Processing Record 25 of Set 118 | ugoofaaru\n",
      "Processing Record 26 of Set 118 | cordoba\n",
      "Processing Record 27 of Set 118 | tarakan\n",
      "Processing Record 28 of Set 118 | henties bay\n",
      "Processing Record 29 of Set 118 | rocha\n",
      "Processing Record 30 of Set 118 | guerrero negro\n",
      "Processing Record 31 of Set 118 | bilma\n",
      "Processing Record 32 of Set 118 | tarudant\n",
      "Processing Record 33 of Set 118 | dunedin\n",
      "Processing Record 34 of Set 118 | thana\n",
      "Processing Record 35 of Set 118 | krasnoarmeysk\n",
      "Processing Record 36 of Set 118 | vangaindrano\n",
      "Processing Record 37 of Set 118 | kavaratti\n",
      "Processing Record 38 of Set 118 | wanaka\n",
      "Processing Record 39 of Set 118 | beya\n",
      "Processing Record 40 of Set 118 | beloha\n",
      "Processing Record 41 of Set 118 | el dorado\n",
      "Processing Record 42 of Set 118 | placido de castro\n",
      "Processing Record 43 of Set 118 | birao\n",
      "Processing Record 44 of Set 118 | saint-augustin\n",
      "Processing Record 45 of Set 118 | najran\n",
      "Processing Record 46 of Set 118 | maceio\n",
      "Processing Record 47 of Set 118 | magadan\n",
      "Processing Record 48 of Set 118 | kaliua\n",
      "Processing Record 49 of Set 118 | wanning\n",
      "Processing Record 50 of Set 118 | constitucion\n",
      "Processing Record 1 of Set 119 | grand river south east\n",
      "Processing Record 2 of Set 119 | souillac\n",
      "Processing Record 3 of Set 119 | micheweni\n",
      "Processing Record 4 of Set 119 | angicos\n",
      "Processing Record 5 of Set 119 | palmer\n",
      "Processing Record 6 of Set 119 | leshukonskoye\n",
      "Processing Record 7 of Set 119 | sao jose da coroa grande\n",
      "Processing Record 8 of Set 119 | mehamn\n",
      "Processing Record 9 of Set 119 | goderich\n",
      "Processing Record 10 of Set 119 | kushima\n",
      "Processing Record 11 of Set 119 | semey\n",
      "Processing Record 12 of Set 119 | emerald\n",
      "Processing Record 13 of Set 119 | nouadhibou\n",
      "Processing Record 14 of Set 119 | dali\n",
      "Processing Record 15 of Set 119 | diffa\n",
      "Processing Record 16 of Set 119 | gamba\n",
      "Processing Record 17 of Set 119 | selestat\n",
      "Processing Record 18 of Set 119 | terme\n",
      "Processing Record 19 of Set 119 | dongzhen\n",
      "Processing Record 20 of Set 119 | caravelas\n",
      "Processing Record 21 of Set 119 | lota\n",
      "Processing Record 22 of Set 119 | muroto\n",
      "Processing Record 23 of Set 119 | hawwarah\n",
      "Processing Record 24 of Set 119 | general roca\n",
      "Processing Record 25 of Set 119 | catuday\n",
      "Processing Record 26 of Set 119 | tingrela\n",
      "Processing Record 27 of Set 119 | sakaiminato\n",
      "Processing Record 28 of Set 119 | nattarasankottai\n",
      "Processing Record 29 of Set 119 | cherskiy\n",
      "Processing Record 30 of Set 119 | honningsvag\n",
      "Processing Record 31 of Set 119 | samsun\n",
      "Processing Record 32 of Set 119 | yanam\n",
      "Processing Record 33 of Set 119 | fairbanks\n",
      "Processing Record 34 of Set 119 | san carlos de bariloche\n",
      "Processing Record 35 of Set 119 | sitka\n",
      "Processing Record 36 of Set 119 | samarai\n",
      "Processing Record 37 of Set 119 | brigantine\n",
      "Processing Record 38 of Set 119 | petropavlovsk-kamchatskiy\n",
      "Processing Record 39 of Set 119 | the pas\n",
      "Processing Record 40 of Set 119 | tokur\n",
      "Processing Record 41 of Set 119 | kitgum\n",
      "Processing Record 42 of Set 119 | springdale\n",
      "Processing Record 43 of Set 119 | porbandar\n",
      "Processing Record 44 of Set 119 | shingu\n",
      "Processing Record 45 of Set 119 | louisbourg\n",
      "Processing Record 46 of Set 119 | macaboboni\n",
      "Processing Record 47 of Set 119 | san diego de la union\n",
      "Processing Record 48 of Set 119 | sao filipe\n",
      "Processing Record 49 of Set 119 | inta\n",
      "Processing Record 50 of Set 119 | aasiaat\n",
      "Processing Record 1 of Set 120 | richards bay\n",
      "Processing Record 2 of Set 120 | ambilobe\n",
      "Processing Record 3 of Set 120 | los llanos de aridane\n",
      "Processing Record 4 of Set 120 | pundaguitan\n",
      "Processing Record 5 of Set 120 | ciras\n",
      "Processing Record 6 of Set 120 | komsomolskiy\n",
      "Processing Record 7 of Set 120 | alotau\n",
      "Processing Record 8 of Set 120 | tautira\n",
      "Processing Record 9 of Set 120 | ahuimanu\n",
      "Processing Record 10 of Set 120 | agirish\n",
      "Processing Record 11 of Set 120 | itarema\n",
      "Processing Record 12 of Set 120 | srandakan\n",
      "Processing Record 13 of Set 120 | torbay\n",
      "Processing Record 14 of Set 120 | pestera\n",
      "Processing Record 15 of Set 120 | dingle\n",
      "Processing Record 16 of Set 120 | homa bay\n",
      "Processing Record 17 of Set 120 | kashmor\n",
      "Processing Record 18 of Set 120 | udachnyy\n",
      "Processing Record 19 of Set 120 | saint-francois\n",
      "Processing Record 20 of Set 120 | geraldton\n",
      "Processing Record 21 of Set 120 | kailua\n",
      "Processing Record 22 of Set 120 | san gabriel casa blanca\n",
      "Processing Record 23 of Set 120 | znamenskoye\n",
      "Processing Record 24 of Set 120 | batemans bay\n",
      "Processing Record 25 of Set 120 | zambezi\n",
      "Processing Record 26 of Set 120 | sorland\n",
      "Processing Record 27 of Set 120 | hwange\n",
      "Processing Record 28 of Set 120 | chapais\n",
      "Processing Record 29 of Set 120 | salinopolis\n",
      "Processing Record 30 of Set 120 | coihaique\n",
      "Processing Record 31 of Set 120 | jarjis\n",
      "Processing Record 32 of Set 120 | grindavik\n",
      "Processing Record 33 of Set 120 | santa cruz\n",
      "Processing Record 34 of Set 120 | odweyne\n",
      "Processing Record 35 of Set 120 | velasco ibarra\n",
      "Processing Record 36 of Set 120 | betare oya\n",
      "Processing Record 37 of Set 120 | gravdal\n",
      "Processing Record 38 of Set 120 | mys shmidta\n",
      "Processing Record 39 of Set 120 | faanui\n",
      "Processing Record 40 of Set 120 | margate\n",
      "Processing Record 41 of Set 120 | shubarkuduk\n",
      "Processing Record 42 of Set 120 | shetpe\n",
      "Processing Record 43 of Set 120 | palladam\n",
      "Processing Record 44 of Set 120 | krasnoselkup\n",
      "Processing Record 45 of Set 120 | buariki\n",
      "Processing Record 46 of Set 120 | pullman\n",
      "Processing Record 47 of Set 120 | asyut\n",
      "Processing Record 48 of Set 120 | choix\n",
      "Processing Record 49 of Set 120 | walvis bay\n",
      "Processing Record 50 of Set 120 | lengshuitan\n"
     ]
    },
    {
     "name": "stdout",
     "output_type": "stream",
     "text": [
      "Processing Record 1 of Set 121 | touros\n",
      "Processing Record 2 of Set 121 | necochea\n",
      "Processing Record 3 of Set 121 | vila franca do campo\n",
      "Processing Record 4 of Set 121 | benguela\n",
      "Processing Record 5 of Set 121 | massena\n",
      "Processing Record 6 of Set 121 | san patricio\n",
      "Processing Record 7 of Set 121 | vanimo\n",
      "Processing Record 8 of Set 121 | elko\n",
      "Processing Record 9 of Set 121 | broome\n",
      "Processing Record 10 of Set 121 | taoudenni\n",
      "Processing Record 11 of Set 121 | wahran\n",
      "Processing Record 12 of Set 121 | saint george\n",
      "Processing Record 13 of Set 121 | kindu\n",
      "Processing Record 14 of Set 121 | cassilandia\n",
      "Processing Record 15 of Set 121 | bandarbeyla\n",
      "Processing Record 16 of Set 121 | anloga\n",
      "Processing Record 17 of Set 121 | ilulissat\n",
      "Processing Record 18 of Set 121 | westport\n",
      "Processing Record 19 of Set 121 | danielskuil\n",
      "Processing Record 20 of Set 121 | melfi\n",
      "Processing Record 21 of Set 121 | pokhara\n",
      "Processing Record 22 of Set 121 | biak\n",
      "Processing Record 23 of Set 121 | cornwall\n",
      "Processing Record 24 of Set 121 | sinkat\n",
      "Processing Record 25 of Set 121 | sitrah\n",
      "Processing Record 26 of Set 121 | memari\n",
      "Processing Record 27 of Set 121 | shwebo\n",
      "Processing Record 28 of Set 121 | miramar\n",
      "Processing Record 29 of Set 121 | kedrovyy\n",
      "Processing Record 30 of Set 121 | byron bay\n",
      "Processing Record 31 of Set 121 | dipkarpaz\n",
      "Processing Record 32 of Set 121 | luderitz\n",
      "Processing Record 33 of Set 121 | bela vista\n",
      "Processing Record 34 of Set 121 | vestmannaeyjar\n",
      "Processing Record 35 of Set 121 | lerwick\n",
      "Processing Record 36 of Set 121 | hambantota\n",
      "Processing Record 37 of Set 121 | jalu\n",
      "Processing Record 38 of Set 121 | safford\n",
      "Processing Record 39 of Set 121 | mahanje\n",
      "Processing Record 40 of Set 121 | jacareacanga\n",
      "Processing Record 41 of Set 121 | lowestoft\n",
      "Processing Record 42 of Set 121 | albion\n",
      "Processing Record 43 of Set 121 | luena\n",
      "Processing Record 44 of Set 121 | hobyo\n",
      "Processing Record 45 of Set 121 | mana\n",
      "Processing Record 46 of Set 121 | ancud\n",
      "Processing Record 47 of Set 121 | killybegs\n",
      "Processing Record 48 of Set 121 | williston\n",
      "Processing Record 49 of Set 121 | deh rawud\n",
      "Processing Record 50 of Set 121 | boa vista\n",
      "Processing Record 1 of Set 122 | bubaque\n",
      "Processing Record 2 of Set 122 | roald\n",
      "Processing Record 3 of Set 122 | nkowakowa\n",
      "Processing Record 4 of Set 122 | basco\n",
      "Processing Record 5 of Set 122 | kiama\n",
      "Processing Record 6 of Set 122 | tessaoua\n",
      "Processing Record 7 of Set 122 | avera\n",
      "Processing Record 8 of Set 122 | maykain\n",
      "Processing Record 9 of Set 122 | akim swedru\n",
      "Processing Record 10 of Set 122 | san cristobal\n",
      "Processing Record 11 of Set 122 | rawson\n",
      "Processing Record 12 of Set 122 | maniitsoq\n",
      "Processing Record 13 of Set 122 | banyumas\n",
      "Processing Record 14 of Set 122 | tuggurt\n",
      "Processing Record 15 of Set 122 | sisimiut\n",
      "Processing Record 16 of Set 122 | nuevo ideal\n",
      "Processing Record 17 of Set 122 | bulaevo\n",
      "Processing Record 18 of Set 122 | valparaiso\n",
      "Processing Record 19 of Set 122 | tezu\n",
      "Processing Record 20 of Set 122 | khonuu\n",
      "Processing Record 21 of Set 122 | vao\n",
      "Processing Record 22 of Set 122 | qiyang\n",
      "Processing Record 23 of Set 122 | saint john\n",
      "Processing Record 24 of Set 122 | te anau\n",
      "Processing Record 25 of Set 122 | hellvik\n",
      "Processing Record 26 of Set 122 | ahipara\n",
      "Processing Record 27 of Set 122 | ertil\n",
      "Processing Record 28 of Set 122 | sarny\n",
      "Processing Record 29 of Set 122 | zabaykalsk\n",
      "Processing Record 30 of Set 122 | aksarka\n",
      "Processing Record 31 of Set 122 | moen\n",
      "Processing Record 32 of Set 122 | tigil\n",
      "Processing Record 33 of Set 122 | russell\n",
      "Processing Record 34 of Set 122 | ucluelet\n",
      "Processing Record 35 of Set 122 | saint anthony\n",
      "Processing Record 36 of Set 122 | auki\n",
      "Processing Record 37 of Set 122 | kachikau\n",
      "Processing Record 38 of Set 122 | ust-kamchatsk\n",
      "Processing Record 39 of Set 122 | dutlwe\n",
      "Processing Record 40 of Set 122 | san rafael\n",
      "Processing Record 41 of Set 122 | chastoozerye\n",
      "Processing Record 42 of Set 122 | hofn\n",
      "Processing Record 43 of Set 122 | merauke\n",
      "Processing Record 44 of Set 122 | mincivan\n",
      "Processing Record 45 of Set 122 | sinor\n",
      "Processing Record 46 of Set 122 | cap malheureux\n",
      "Processing Record 47 of Set 122 | korla\n",
      "Processing Record 48 of Set 122 | kyakhta\n",
      "Processing Record 49 of Set 122 | turbat\n",
      "Processing Record 50 of Set 122 | pasewalk\n",
      "Processing Record 1 of Set 123 | fort nelson\n",
      "Processing Record 2 of Set 123 | morant bay\n",
      "Processing Record 3 of Set 123 | hualmay\n",
      "Processing Record 4 of Set 123 | kuito\n",
      "Processing Record 5 of Set 123 | mundo nuevo\n",
      "Processing Record 6 of Set 123 | bokoro\n",
      "Processing Record 7 of Set 123 | ossora\n",
      "Processing Record 8 of Set 123 | kimbe\n",
      "Processing Record 9 of Set 123 | cheremukhovo\n",
      "Processing Record 10 of Set 123 | puerto colombia\n",
      "Processing Record 11 of Set 123 | raga\n",
      "Processing Record 12 of Set 123 | kalmunai\n",
      "Processing Record 13 of Set 123 | stromness\n",
      "Processing Record 14 of Set 123 | nalut\n",
      "Processing Record 15 of Set 123 | cairns\n",
      "Processing Record 16 of Set 123 | yar-sale\n",
      "Processing Record 17 of Set 123 | mocambique\n",
      "Processing Record 18 of Set 123 | swellendam\n",
      "Processing Record 19 of Set 123 | jutai\n",
      "Processing Record 20 of Set 123 | bihac\n",
      "Processing Record 21 of Set 123 | gat\n",
      "Processing Record 22 of Set 123 | coquimbo\n",
      "Processing Record 23 of Set 123 | itatskiy\n",
      "Processing Record 24 of Set 123 | eirunepe\n",
      "Processing Record 25 of Set 123 | belyy yar\n",
      "Processing Record 26 of Set 123 | katobu\n",
      "Processing Record 27 of Set 123 | tagusao\n",
      "Processing Record 28 of Set 123 | kalomo\n",
      "Processing Record 29 of Set 123 | padang\n",
      "Processing Record 30 of Set 123 | alamos\n",
      "Processing Record 31 of Set 123 | half moon bay\n",
      "Processing Record 32 of Set 123 | wau\n",
      "Processing Record 33 of Set 123 | puerto narino\n",
      "Processing Record 34 of Set 123 | nieuw amsterdam\n",
      "Processing Record 35 of Set 123 | bathsheba\n",
      "Processing Record 36 of Set 123 | vestmanna\n",
      "Processing Record 37 of Set 123 | isangel\n",
      "Processing Record 38 of Set 123 | inongo\n",
      "Processing Record 39 of Set 123 | usinsk\n",
      "Processing Record 40 of Set 123 | tuy hoa\n",
      "Processing Record 41 of Set 123 | cachoeira do sul\n",
      "Processing Record 42 of Set 123 | bolshevik\n",
      "Processing Record 43 of Set 123 | kloulklubed\n",
      "Processing Record 44 of Set 123 | yakeshi\n",
      "Processing Record 45 of Set 123 | nikel\n",
      "Processing Record 46 of Set 123 | srednekolymsk\n",
      "Processing Record 47 of Set 123 | tessalit\n",
      "Processing Record 48 of Set 123 | longyearbyen\n",
      "Processing Record 49 of Set 123 | santa maria\n",
      "Processing Record 50 of Set 123 | kirakira\n",
      "Processing Record 1 of Set 124 | belaya gora\n",
      "Processing Record 2 of Set 124 | mehran\n",
      "Processing Record 3 of Set 124 | sabaudia\n",
      "Processing Record 4 of Set 124 | camacha\n",
      "Processing Record 5 of Set 124 | carballo\n",
      "Processing Record 6 of Set 124 | ocozocoautla\n",
      "Processing Record 7 of Set 124 | palu\n",
      "Processing Record 8 of Set 124 | dallas\n",
      "Processing Record 9 of Set 124 | polikhnitos\n",
      "Processing Record 10 of Set 124 | monrovia\n",
      "Processing Record 11 of Set 124 | broken hill\n",
      "Processing Record 12 of Set 124 | nantucket\n",
      "Processing Record 13 of Set 124 | west bay\n",
      "Processing Record 14 of Set 124 | gaoua\n",
      "Processing Record 15 of Set 124 | mogadishu\n",
      "Processing Record 16 of Set 124 | ngunguru\n",
      "Processing Record 17 of Set 124 | maraba\n",
      "Processing Record 18 of Set 124 | hauterive\n",
      "Processing Record 19 of Set 124 | thinadhoo\n",
      "Processing Record 20 of Set 124 | kautokeino\n",
      "Processing Record 21 of Set 124 | aflu\n",
      "Processing Record 22 of Set 124 | rumoi\n",
      "Processing Record 23 of Set 124 | port-gentil\n",
      "Processing Record 24 of Set 124 | egvekinot\n",
      "Processing Record 25 of Set 124 | olinda\n",
      "Processing Record 26 of Set 124 | jaguarari\n",
      "Processing Record 27 of Set 124 | beni\n",
      "Processing Record 28 of Set 124 | zhanaozen\n",
      "Processing Record 29 of Set 124 | deputatskiy\n",
      "Processing Record 30 of Set 124 | tupancireta\n",
      "Processing Record 31 of Set 124 | rivadavia\n",
      "Processing Record 32 of Set 124 | salina\n",
      "Processing Record 33 of Set 124 | paita\n",
      "Processing Record 34 of Set 124 | saint-joseph\n",
      "Processing Record 35 of Set 124 | larsnes\n",
      "Processing Record 36 of Set 124 | gilazi\n",
      "Processing Record 37 of Set 124 | otautau\n",
      "Processing Record 38 of Set 124 | djambala\n",
      "Processing Record 39 of Set 124 | kamenskoye\n",
      "Processing Record 40 of Set 124 | tura\n",
      "Processing Record 41 of Set 124 | pietarsaari\n",
      "Processing Record 42 of Set 124 | kushmurun\n",
      "Processing Record 43 of Set 124 | karachi\n",
      "Processing Record 44 of Set 124 | chama\n",
      "Processing Record 45 of Set 124 | saryg-sep\n",
      "Processing Record 46 of Set 124 | santa fe\n",
      "Processing Record 47 of Set 124 | tarko-sale\n",
      "Processing Record 48 of Set 124 | kenai\n",
      "Processing Record 49 of Set 124 | loreto\n",
      "Processing Record 50 of Set 124 | jumla\n"
     ]
    },
    {
     "name": "stdout",
     "output_type": "stream",
     "text": [
      "Processing Record 1 of Set 125 | berberati\n",
      "Processing Record 2 of Set 125 | iqaluit\n",
      "Processing Record 3 of Set 125 | sakakah\n",
      "Processing Record 4 of Set 125 | ormara\n",
      "Processing Record 5 of Set 125 | comodoro rivadavia\n",
      "Processing Record 6 of Set 125 | yaan\n",
      "Processing Record 7 of Set 125 | isla mujeres\n",
      "Processing Record 8 of Set 125 | clarence town\n",
      "Processing Record 9 of Set 125 | shibarghan\n",
      "Processing Record 10 of Set 125 | chara\n",
      "Processing Record 11 of Set 125 | sisophon\n",
      "Processing Record 12 of Set 125 | mataram\n",
      "Processing Record 13 of Set 125 | vvedenskoye\n",
      "Processing Record 14 of Set 125 | fukue\n",
      "Processing Record 15 of Set 125 | marsa matruh\n"
     ]
    }
   ],
   "source": [
    "# Loop through all the cities in the list.\n",
    "for i, city in enumerate(cities):\n",
    "\n",
    "    # Group cities in sets of 50 for logging purposes.\n",
    "    if (i % 50 == 0 and i >= 50):\n",
    "        set_count += 1\n",
    "        record_count = 1\n",
    "        time.sleep(60)\n",
    "\n",
    "    # Create endpoint URL with each city.\n",
    "    city_url = url + \"&q=\" + city.replace(\" \",\"+\")\n",
    "\n",
    "    # Log the URL, record, and set numbers and the city.\n",
    "    print(f\"Processing Record {record_count} of Set {set_count} | {city}\")\n",
    "    # Add 1 to the record count.\n",
    "    record_count += 1"
   ]
  },
  {
   "cell_type": "code",
   "execution_count": 31,
   "id": "e74c11d1",
   "metadata": {
    "scrolled": true
   },
   "outputs": [
    {
     "name": "stdout",
     "output_type": "stream",
     "text": [
      "-----------------------------\n",
      "Data Retrieval Complete      \n",
      "-----------------------------\n"
     ]
    }
   ],
   "source": [
    "# Run an API request for each of the cities.\n",
    "try:\n",
    "        # Parse the JSON and retrieve data.\n",
    "        city_weather = requests.get(city_url).json()\n",
    "        # Parse out the needed data.\n",
    "        city_lat = city_weather[\"coord\"][\"lat\"]\n",
    "        city_lng = city_weather[\"coord\"][\"lon\"]\n",
    "        city_max_temp = city_weather[\"main\"][\"temp_max\"]\n",
    "        city_humidity = city_weather[\"main\"][\"humidity\"]\n",
    "        city_clouds = city_weather[\"clouds\"][\"all\"]\n",
    "        city_wind = city_weather[\"wind\"][\"speed\"]\n",
    "        city_country = city_weather[\"sys\"][\"country\"]\n",
    "        # Convert the date to ISO standard.\n",
    "        city_date = datetime.utcfromtimestamp(city_weather[\"dt\"]).strftime('%Y-%m-%d %H:%M:%S')\n",
    "        # Append the city information into city_data list.\n",
    "        city_data.append({\"City\": city.title(),\n",
    "                          \"Lat\": city_lat,\n",
    "                          \"Lng\": city_lng,\n",
    "                          \"Max Temp\": city_max_temp,\n",
    "                          \"Humidity\": city_humidity,\n",
    "                          \"Cloudiness\": city_clouds,\n",
    "                          \"Wind Speed\": city_wind,\n",
    "                          \"Country\": city_country,\n",
    "                          \"Date\": city_date})\n",
    "\n",
    "# If an error is experienced, skip the city.\n",
    "except:\n",
    "        print(\"City not found. Skipping...\")\n",
    "pass\n",
    "\n",
    "# Indicate that Data Loading is complete.\n",
    "print(\"-----------------------------\")\n",
    "print(\"Data Retrieval Complete      \")\n",
    "print(\"-----------------------------\")"
   ]
  },
  {
   "cell_type": "code",
   "execution_count": 75,
   "id": "0a5d2de0",
   "metadata": {
    "scrolled": true
   },
   "outputs": [
    {
     "data": {
      "text/html": [
       "<div>\n",
       "<style scoped>\n",
       "    .dataframe tbody tr th:only-of-type {\n",
       "        vertical-align: middle;\n",
       "    }\n",
       "\n",
       "    .dataframe tbody tr th {\n",
       "        vertical-align: top;\n",
       "    }\n",
       "\n",
       "    .dataframe thead th {\n",
       "        text-align: right;\n",
       "    }\n",
       "</style>\n",
       "<table border=\"1\" class=\"dataframe\">\n",
       "  <thead>\n",
       "    <tr style=\"text-align: right;\">\n",
       "      <th></th>\n",
       "      <th>City</th>\n",
       "      <th>Lat</th>\n",
       "      <th>Lng</th>\n",
       "      <th>Max Temp</th>\n",
       "      <th>Humidity</th>\n",
       "      <th>Cloudiness</th>\n",
       "      <th>Wind Speed</th>\n",
       "      <th>Country</th>\n",
       "      <th>Date</th>\n",
       "    </tr>\n",
       "  </thead>\n",
       "  <tbody>\n",
       "    <tr>\n",
       "      <th>0</th>\n",
       "      <td>Gweta</td>\n",
       "      <td>18.2170</td>\n",
       "      <td>-63.0578</td>\n",
       "      <td>77.83</td>\n",
       "      <td>77</td>\n",
       "      <td>5</td>\n",
       "      <td>10.98</td>\n",
       "      <td>AI</td>\n",
       "      <td>2022-02-02 02:52:02</td>\n",
       "    </tr>\n",
       "    <tr>\n",
       "      <th>1</th>\n",
       "      <td>Bubaque</td>\n",
       "      <td>2.8197</td>\n",
       "      <td>-60.6733</td>\n",
       "      <td>80.58</td>\n",
       "      <td>65</td>\n",
       "      <td>0</td>\n",
       "      <td>11.50</td>\n",
       "      <td>BR</td>\n",
       "      <td>2022-02-02 03:10:48</td>\n",
       "    </tr>\n",
       "  </tbody>\n",
       "</table>\n",
       "</div>"
      ],
      "text/plain": [
       "      City      Lat      Lng  Max Temp  Humidity  Cloudiness  Wind Speed  \\\n",
       "0    Gweta  18.2170 -63.0578     77.83        77           5       10.98   \n",
       "1  Bubaque   2.8197 -60.6733     80.58        65           0       11.50   \n",
       "\n",
       "  Country                 Date  \n",
       "0      AI  2022-02-02 02:52:02  \n",
       "1      BR  2022-02-02 03:10:48  "
      ]
     },
     "execution_count": 75,
     "metadata": {},
     "output_type": "execute_result"
    }
   ],
   "source": [
    "# Convert the array of dictionaries to a Pandas DataFrame.\n",
    "city_data_df = pd.DataFrame(city_data)\n",
    "city_data_df.head(10)"
   ]
  },
  {
   "cell_type": "code",
   "execution_count": 76,
   "id": "016882a7",
   "metadata": {
    "scrolled": false
   },
   "outputs": [],
   "source": [
    "# Create the output file (CSV).\n",
    "output_data_file = \"weather_data/cities.csv\"\n",
    "# Export the City_Data into a CSV.\n",
    "city_data_df.to_csv(output_data_file, index_label=\"City_ID\")"
   ]
  },
  {
   "cell_type": "code",
   "execution_count": 77,
   "id": "3fa284c6",
   "metadata": {
    "scrolled": false
   },
   "outputs": [],
   "source": [
    "# Extract relevant fields from the DataFrame for plotting.\n",
    "lats = city_data_df[\"Lat\"]\n",
    "max_temps = city_data_df[\"Max Temp\"]\n",
    "humidity = city_data_df[\"Humidity\"]\n",
    "cloudiness = city_data_df[\"Cloudiness\"]\n",
    "wind_speed = city_data_df[\"Wind Speed\"]"
   ]
  },
  {
   "cell_type": "code",
   "execution_count": 78,
   "id": "f4c7031e",
   "metadata": {},
   "outputs": [
    {
     "data": {
      "image/png": "[encoded data removed]",
      "text/plain": [
       "<Figure size 432x288 with 1 Axes>"
      ]
     },
     "metadata": {
      "needs_background": "light"
     },
     "output_type": "display_data"
    }
   ],
   "source": [
    "# Import time module\n",
    "import time\n",
    "\n",
    "# Build the scatter plot for latitude vs. max temperature.\n",
    "plt.scatter(lats,\n",
    "            max_temps,\n",
    "            edgecolor=\"black\", linewidths=1, marker=\"o\",\n",
    "            alpha=0.8, label=\"Cities\")\n",
    "\n",
    "# Incorporate the other graph properties.\n",
    "plt.title(f\"City Latitude vs. Max Temperature \"+ time.strftime(\"%x\"))\n",
    "plt.ylabel(\"Max Temperature (F)\")\n",
    "plt.xlabel(\"Latitude\")\n",
    "plt.grid(True)\n",
    "\n",
    "# Save the figure.\n",
    "plt.savefig(\"weather_data/Fig1.png\")\n",
    "\n",
    "# Show plot.\n",
    "plt.show()"
   ]
  },
  {
   "cell_type": "code",
   "execution_count": 79,
   "id": "dfce0bc8",
   "metadata": {},
   "outputs": [
    {
     "data": {
      "image/png": "[encoded data removed]",
      "text/plain": [
       "<Figure size 432x288 with 1 Axes>"
      ]
     },
     "metadata": {
      "needs_background": "light"
     },
     "output_type": "display_data"
    }
   ],
   "source": [
    "# Build the scatter plots for latitude vs. humidity.\n",
    "plt.scatter(lats,\n",
    "            humidity,\n",
    "            edgecolor=\"black\", linewidths=1, marker=\"o\",\n",
    "            alpha=0.8, label=\"Cities\")\n",
    "\n",
    "# Incorporate the other graph properties.\n",
    "plt.title(f\"City Latitude vs. Humidity \"+ time.strftime(\"%x\"))\n",
    "plt.ylabel(\"Humidity (%)\")\n",
    "plt.xlabel(\"Latitude\")\n",
    "plt.grid(True)\n",
    "# Save the figure.\n",
    "plt.savefig(\"weather_data/Fig2.png\")\n",
    "# Show plot.\n",
    "plt.show()"
   ]
  },
  {
   "cell_type": "code",
   "execution_count": 80,
   "id": "f5a09bc1",
   "metadata": {},
   "outputs": [
    {
     "data": {
      "image/png": "[encoded data removed]",
      "text/plain": [
       "<Figure size 432x288 with 1 Axes>"
      ]
     },
     "metadata": {
      "needs_background": "light"
     },
     "output_type": "display_data"
    }
   ],
   "source": [
    "# Build the scatter plots for latitude vs. cloudiness.\n",
    "plt.scatter(lats,\n",
    "            cloudiness,\n",
    "            edgecolor=\"black\", linewidths=1, marker=\"o\",\n",
    "            alpha=0.8, label=\"Cities\")\n",
    "\n",
    "# Incorporate the other graph properties.\n",
    "plt.title(f\"City Latitude vs. Cloudiness (%) \"+ time.strftime(\"%x\"))\n",
    "plt.ylabel(\"Cloudiness (%)\")\n",
    "plt.xlabel(\"Latitude\")\n",
    "plt.grid(True)\n",
    "# Save the figure.\n",
    "plt.savefig(\"weather_data/Fig3.png\")\n",
    "# Show plot.\n",
    "plt.show()"
   ]
  },
  {
   "cell_type": "code",
   "execution_count": 81,
   "id": "bff27b7c",
   "metadata": {},
   "outputs": [
    {
     "data": {
      "image/png": "[encoded data removed]",
      "text/plain": [
       "<Figure size 432x288 with 1 Axes>"
      ]
     },
     "metadata": {
      "needs_background": "light"
     },
     "output_type": "display_data"
    }
   ],
   "source": [
    "# Build the scatter plots for latitude vs. wind speed.\n",
    "plt.scatter(lats,\n",
    "            wind_speed,\n",
    "            edgecolor=\"black\", linewidths=1, marker=\"o\",\n",
    "            alpha=0.8, label=\"Cities\")\n",
    "\n",
    "# Incorporate the other graph properties.\n",
    "plt.title(f\"City Latitude vs. Wind Speed \"+ time.strftime(\"%x\"))\n",
    "plt.ylabel(\"Wind Speed (mph)\")\n",
    "plt.xlabel(\"Latitude\")\n",
    "plt.grid(True)\n",
    "# Save the figure.\n",
    "plt.savefig(\"weather_data/Fig4.png\")\n",
    "# Show plot.\n",
    "plt.show()"
   ]
  },
  {
   "cell_type": "code",
   "execution_count": 114,
   "id": "96b82bcc",
   "metadata": {
    "scrolled": false
   },
   "outputs": [
    {
     "ename": "SyntaxError",
     "evalue": "unexpected EOF while parsing (755688848.py, line 3)",
     "output_type": "error",
     "traceback": [
      "\u001b[0;36m  File \u001b[0;32m\"/var/folders/v9/sdcqvkz116dfb_40vwh18bsw0000gn/T/ipykernel_27292/755688848.py\"\u001b[0;36m, line \u001b[0;32m3\u001b[0m\n\u001b[0;31m    def plot_linear_regression(x_values, y_values, title, y_label, text_coordinates):\u001b[0m\n\u001b[0m                                                                                     ^\u001b[0m\n\u001b[0;31mSyntaxError\u001b[0m\u001b[0;31m:\u001b[0m unexpected EOF while parsing\n"
     ]
    }
   ],
   "source": [
    "# Create a function to create perform linear regression on the weather data\n",
    "# and plot a regression line and the equation with the data.\n",
    "def plot_linear_regression(x_values, y_values, title, y_label, text_coordinates):"
   ]
  },
  {
   "cell_type": "code",
   "execution_count": 83,
   "id": "80551a08",
   "metadata": {},
   "outputs": [],
   "source": [
    "# Import linregress\n",
    "from scipy.stats import linregress\n",
    "\n",
    "# Create a function to create perform linear regression on the weather data\n",
    "# and plot a regression line and the equation with the data.\n",
    "def plot_linear_regression(x_values, y_values, title, y_label, text_coordinates):\n",
    "\n",
    "    # Run regression on hemisphere weather data.\n",
    "    (slope, intercept, r_value, p_value, std_err) = linregress(x_values, y_values)\n",
    "\n",
    "    # Calculate the regression line \"y values\" from the slope and intercept.\n",
    "    regress_values = x_values * slope + intercept\n",
    "    # Get the equation of the line.\n",
    "    line_eq = \"y = \" + str(round(slope,2)) + \"x + \" + str(round(intercept,2))\n",
    "    # Create a scatter plot and plot the regression line.\n",
    "    plt.scatter(x_values,y_values)\n",
    "    plt.plot(x_values,regress_values,\"r\")\n",
    "    # Annotate the text for the line equation.\n",
    "    plt.annotate(line_eq, text_coordinates, fontsize=15, color=\"red\")\n",
    "    plt.title(title)\n",
    "    plt.xlabel('Latitude')\n",
    "    plt.ylabel(y_label)\n",
    "    plt.show()"
   ]
  },
  {
   "cell_type": "code",
   "execution_count": 115,
   "id": "b36b4cba",
   "metadata": {
    "scrolled": false
   },
   "outputs": [
    {
     "ename": "KeyError",
     "evalue": "13",
     "output_type": "error",
     "traceback": [
      "\u001b[0;31m---------------------------------------------------------------------------\u001b[0m",
      "\u001b[0;31mValueError\u001b[0m                                Traceback (most recent call last)",
      "\u001b[0;32m~/opt/anaconda3/envs/PythonData/lib/python3.7/site-packages/pandas/core/indexes/range.py\u001b[0m in \u001b[0;36mget_loc\u001b[0;34m(self, key, method, tolerance)\u001b[0m\n\u001b[1;32m    384\u001b[0m                 \u001b[0;32mtry\u001b[0m\u001b[0;34m:\u001b[0m\u001b[0;34m\u001b[0m\u001b[0;34m\u001b[0m\u001b[0m\n\u001b[0;32m--> 385\u001b[0;31m                     \u001b[0;32mreturn\u001b[0m \u001b[0mself\u001b[0m\u001b[0;34m.\u001b[0m\u001b[0m_range\u001b[0m\u001b[0;34m.\u001b[0m\u001b[0mindex\u001b[0m\u001b[0;34m(\u001b[0m\u001b[0mnew_key\u001b[0m\u001b[0;34m)\u001b[0m\u001b[0;34m\u001b[0m\u001b[0;34m\u001b[0m\u001b[0m\n\u001b[0m\u001b[1;32m    386\u001b[0m                 \u001b[0;32mexcept\u001b[0m \u001b[0mValueError\u001b[0m \u001b[0;32mas\u001b[0m \u001b[0merr\u001b[0m\u001b[0;34m:\u001b[0m\u001b[0;34m\u001b[0m\u001b[0;34m\u001b[0m\u001b[0m\n",
      "\u001b[0;31mValueError\u001b[0m: 13 is not in range",
      "\nThe above exception was the direct cause of the following exception:\n",
      "\u001b[0;31mKeyError\u001b[0m                                  Traceback (most recent call last)",
      "\u001b[0;32m/var/folders/v9/sdcqvkz116dfb_40vwh18bsw0000gn/T/ipykernel_27292/612163934.py\u001b[0m in \u001b[0;36m<module>\u001b[0;34m\u001b[0m\n\u001b[0;32m----> 1\u001b[0;31m \u001b[0mindex13\u001b[0m \u001b[0;34m=\u001b[0m \u001b[0mcity_data_df\u001b[0m\u001b[0;34m.\u001b[0m\u001b[0mloc\u001b[0m\u001b[0;34m[\u001b[0m\u001b[0;36m13\u001b[0m\u001b[0;34m]\u001b[0m\u001b[0;34m\u001b[0m\u001b[0;34m\u001b[0m\u001b[0m\n\u001b[0m",
      "\u001b[0;32m~/opt/anaconda3/envs/PythonData/lib/python3.7/site-packages/pandas/core/indexing.py\u001b[0m in \u001b[0;36m__getitem__\u001b[0;34m(self, key)\u001b[0m\n\u001b[1;32m    929\u001b[0m \u001b[0;34m\u001b[0m\u001b[0m\n\u001b[1;32m    930\u001b[0m             \u001b[0mmaybe_callable\u001b[0m \u001b[0;34m=\u001b[0m \u001b[0mcom\u001b[0m\u001b[0;34m.\u001b[0m\u001b[0mapply_if_callable\u001b[0m\u001b[0;34m(\u001b[0m\u001b[0mkey\u001b[0m\u001b[0;34m,\u001b[0m \u001b[0mself\u001b[0m\u001b[0;34m.\u001b[0m\u001b[0mobj\u001b[0m\u001b[0;34m)\u001b[0m\u001b[0;34m\u001b[0m\u001b[0;34m\u001b[0m\u001b[0m\n\u001b[0;32m--> 931\u001b[0;31m             \u001b[0;32mreturn\u001b[0m \u001b[0mself\u001b[0m\u001b[0;34m.\u001b[0m\u001b[0m_getitem_axis\u001b[0m\u001b[0;34m(\u001b[0m\u001b[0mmaybe_callable\u001b[0m\u001b[0;34m,\u001b[0m \u001b[0maxis\u001b[0m\u001b[0;34m=\u001b[0m\u001b[0maxis\u001b[0m\u001b[0;34m)\u001b[0m\u001b[0;34m\u001b[0m\u001b[0;34m\u001b[0m\u001b[0m\n\u001b[0m\u001b[1;32m    932\u001b[0m \u001b[0;34m\u001b[0m\u001b[0m\n\u001b[1;32m    933\u001b[0m     \u001b[0;32mdef\u001b[0m \u001b[0m_is_scalar_access\u001b[0m\u001b[0;34m(\u001b[0m\u001b[0mself\u001b[0m\u001b[0;34m,\u001b[0m \u001b[0mkey\u001b[0m\u001b[0;34m:\u001b[0m \u001b[0mtuple\u001b[0m\u001b[0;34m)\u001b[0m\u001b[0;34m:\u001b[0m\u001b[0;34m\u001b[0m\u001b[0;34m\u001b[0m\u001b[0m\n",
      "\u001b[0;32m~/opt/anaconda3/envs/PythonData/lib/python3.7/site-packages/pandas/core/indexing.py\u001b[0m in \u001b[0;36m_getitem_axis\u001b[0;34m(self, key, axis)\u001b[0m\n\u001b[1;32m   1162\u001b[0m         \u001b[0;31m# fall thru to straight lookup\u001b[0m\u001b[0;34m\u001b[0m\u001b[0;34m\u001b[0m\u001b[0;34m\u001b[0m\u001b[0m\n\u001b[1;32m   1163\u001b[0m         \u001b[0mself\u001b[0m\u001b[0;34m.\u001b[0m\u001b[0m_validate_key\u001b[0m\u001b[0;34m(\u001b[0m\u001b[0mkey\u001b[0m\u001b[0;34m,\u001b[0m \u001b[0maxis\u001b[0m\u001b[0;34m)\u001b[0m\u001b[0;34m\u001b[0m\u001b[0;34m\u001b[0m\u001b[0m\n\u001b[0;32m-> 1164\u001b[0;31m         \u001b[0;32mreturn\u001b[0m \u001b[0mself\u001b[0m\u001b[0;34m.\u001b[0m\u001b[0m_get_label\u001b[0m\u001b[0;34m(\u001b[0m\u001b[0mkey\u001b[0m\u001b[0;34m,\u001b[0m \u001b[0maxis\u001b[0m\u001b[0;34m=\u001b[0m\u001b[0maxis\u001b[0m\u001b[0;34m)\u001b[0m\u001b[0;34m\u001b[0m\u001b[0;34m\u001b[0m\u001b[0m\n\u001b[0m\u001b[1;32m   1165\u001b[0m \u001b[0;34m\u001b[0m\u001b[0m\n\u001b[1;32m   1166\u001b[0m     \u001b[0;32mdef\u001b[0m \u001b[0m_get_slice_axis\u001b[0m\u001b[0;34m(\u001b[0m\u001b[0mself\u001b[0m\u001b[0;34m,\u001b[0m \u001b[0mslice_obj\u001b[0m\u001b[0;34m:\u001b[0m \u001b[0mslice\u001b[0m\u001b[0;34m,\u001b[0m \u001b[0maxis\u001b[0m\u001b[0;34m:\u001b[0m \u001b[0mint\u001b[0m\u001b[0;34m)\u001b[0m\u001b[0;34m:\u001b[0m\u001b[0;34m\u001b[0m\u001b[0;34m\u001b[0m\u001b[0m\n",
      "\u001b[0;32m~/opt/anaconda3/envs/PythonData/lib/python3.7/site-packages/pandas/core/indexing.py\u001b[0m in \u001b[0;36m_get_label\u001b[0;34m(self, label, axis)\u001b[0m\n\u001b[1;32m   1111\u001b[0m     \u001b[0;32mdef\u001b[0m \u001b[0m_get_label\u001b[0m\u001b[0;34m(\u001b[0m\u001b[0mself\u001b[0m\u001b[0;34m,\u001b[0m \u001b[0mlabel\u001b[0m\u001b[0;34m,\u001b[0m \u001b[0maxis\u001b[0m\u001b[0;34m:\u001b[0m \u001b[0mint\u001b[0m\u001b[0;34m)\u001b[0m\u001b[0;34m:\u001b[0m\u001b[0;34m\u001b[0m\u001b[0;34m\u001b[0m\u001b[0m\n\u001b[1;32m   1112\u001b[0m         \u001b[0;31m# GH#5667 this will fail if the label is not present in the axis.\u001b[0m\u001b[0;34m\u001b[0m\u001b[0;34m\u001b[0m\u001b[0;34m\u001b[0m\u001b[0m\n\u001b[0;32m-> 1113\u001b[0;31m         \u001b[0;32mreturn\u001b[0m \u001b[0mself\u001b[0m\u001b[0;34m.\u001b[0m\u001b[0mobj\u001b[0m\u001b[0;34m.\u001b[0m\u001b[0mxs\u001b[0m\u001b[0;34m(\u001b[0m\u001b[0mlabel\u001b[0m\u001b[0;34m,\u001b[0m \u001b[0maxis\u001b[0m\u001b[0;34m=\u001b[0m\u001b[0maxis\u001b[0m\u001b[0;34m)\u001b[0m\u001b[0;34m\u001b[0m\u001b[0;34m\u001b[0m\u001b[0m\n\u001b[0m\u001b[1;32m   1114\u001b[0m \u001b[0;34m\u001b[0m\u001b[0m\n\u001b[1;32m   1115\u001b[0m     \u001b[0;32mdef\u001b[0m \u001b[0m_handle_lowerdim_multi_index_axis0\u001b[0m\u001b[0;34m(\u001b[0m\u001b[0mself\u001b[0m\u001b[0;34m,\u001b[0m \u001b[0mtup\u001b[0m\u001b[0;34m:\u001b[0m \u001b[0mtuple\u001b[0m\u001b[0;34m)\u001b[0m\u001b[0;34m:\u001b[0m\u001b[0;34m\u001b[0m\u001b[0;34m\u001b[0m\u001b[0m\n",
      "\u001b[0;32m~/opt/anaconda3/envs/PythonData/lib/python3.7/site-packages/pandas/core/generic.py\u001b[0m in \u001b[0;36mxs\u001b[0;34m(self, key, axis, level, drop_level)\u001b[0m\n\u001b[1;32m   3774\u001b[0m                 \u001b[0;32mraise\u001b[0m \u001b[0mTypeError\u001b[0m\u001b[0;34m(\u001b[0m\u001b[0;34mf\"Expected label or tuple of labels, got {key}\"\u001b[0m\u001b[0;34m)\u001b[0m \u001b[0;32mfrom\u001b[0m \u001b[0me\u001b[0m\u001b[0;34m\u001b[0m\u001b[0;34m\u001b[0m\u001b[0m\n\u001b[1;32m   3775\u001b[0m         \u001b[0;32melse\u001b[0m\u001b[0;34m:\u001b[0m\u001b[0;34m\u001b[0m\u001b[0;34m\u001b[0m\u001b[0m\n\u001b[0;32m-> 3776\u001b[0;31m             \u001b[0mloc\u001b[0m \u001b[0;34m=\u001b[0m \u001b[0mindex\u001b[0m\u001b[0;34m.\u001b[0m\u001b[0mget_loc\u001b[0m\u001b[0;34m(\u001b[0m\u001b[0mkey\u001b[0m\u001b[0;34m)\u001b[0m\u001b[0;34m\u001b[0m\u001b[0;34m\u001b[0m\u001b[0m\n\u001b[0m\u001b[1;32m   3777\u001b[0m \u001b[0;34m\u001b[0m\u001b[0m\n\u001b[1;32m   3778\u001b[0m             \u001b[0;32mif\u001b[0m \u001b[0misinstance\u001b[0m\u001b[0;34m(\u001b[0m\u001b[0mloc\u001b[0m\u001b[0;34m,\u001b[0m \u001b[0mnp\u001b[0m\u001b[0;34m.\u001b[0m\u001b[0mndarray\u001b[0m\u001b[0;34m)\u001b[0m\u001b[0;34m:\u001b[0m\u001b[0;34m\u001b[0m\u001b[0;34m\u001b[0m\u001b[0m\n",
      "\u001b[0;32m~/opt/anaconda3/envs/PythonData/lib/python3.7/site-packages/pandas/core/indexes/range.py\u001b[0m in \u001b[0;36mget_loc\u001b[0;34m(self, key, method, tolerance)\u001b[0m\n\u001b[1;32m    385\u001b[0m                     \u001b[0;32mreturn\u001b[0m \u001b[0mself\u001b[0m\u001b[0;34m.\u001b[0m\u001b[0m_range\u001b[0m\u001b[0;34m.\u001b[0m\u001b[0mindex\u001b[0m\u001b[0;34m(\u001b[0m\u001b[0mnew_key\u001b[0m\u001b[0;34m)\u001b[0m\u001b[0;34m\u001b[0m\u001b[0;34m\u001b[0m\u001b[0m\n\u001b[1;32m    386\u001b[0m                 \u001b[0;32mexcept\u001b[0m \u001b[0mValueError\u001b[0m \u001b[0;32mas\u001b[0m \u001b[0merr\u001b[0m\u001b[0;34m:\u001b[0m\u001b[0;34m\u001b[0m\u001b[0;34m\u001b[0m\u001b[0m\n\u001b[0;32m--> 387\u001b[0;31m                     \u001b[0;32mraise\u001b[0m \u001b[0mKeyError\u001b[0m\u001b[0;34m(\u001b[0m\u001b[0mkey\u001b[0m\u001b[0;34m)\u001b[0m \u001b[0;32mfrom\u001b[0m \u001b[0merr\u001b[0m\u001b[0;34m\u001b[0m\u001b[0;34m\u001b[0m\u001b[0m\n\u001b[0m\u001b[1;32m    388\u001b[0m             \u001b[0;32mraise\u001b[0m \u001b[0mKeyError\u001b[0m\u001b[0;34m(\u001b[0m\u001b[0mkey\u001b[0m\u001b[0;34m)\u001b[0m\u001b[0;34m\u001b[0m\u001b[0;34m\u001b[0m\u001b[0m\n\u001b[1;32m    389\u001b[0m         \u001b[0;32mreturn\u001b[0m \u001b[0msuper\u001b[0m\u001b[0;34m(\u001b[0m\u001b[0;34m)\u001b[0m\u001b[0;34m.\u001b[0m\u001b[0mget_loc\u001b[0m\u001b[0;34m(\u001b[0m\u001b[0mkey\u001b[0m\u001b[0;34m,\u001b[0m \u001b[0mmethod\u001b[0m\u001b[0;34m=\u001b[0m\u001b[0mmethod\u001b[0m\u001b[0;34m,\u001b[0m \u001b[0mtolerance\u001b[0m\u001b[0;34m=\u001b[0m\u001b[0mtolerance\u001b[0m\u001b[0;34m)\u001b[0m\u001b[0;34m\u001b[0m\u001b[0;34m\u001b[0m\u001b[0m\n",
      "\u001b[0;31mKeyError\u001b[0m: 13"
     ]
    }
   ],
   "source": [
    "index13 = city_data_df.loc[13]"
   ]
  },
  {
   "cell_type": "code",
   "execution_count": 116,
   "id": "07759f92",
   "metadata": {
    "scrolled": true
   },
   "outputs": [
    {
     "data": {
      "text/plain": [
       "0    True\n",
       "1    True\n",
       "Name: Lat, dtype: bool"
      ]
     },
     "execution_count": 116,
     "metadata": {},
     "output_type": "execute_result"
    }
   ],
   "source": [
    "city_data_df[\"Lat\"] >= 0"
   ]
  },
  {
   "cell_type": "code",
   "execution_count": 117,
   "id": "3cc869d1",
   "metadata": {},
   "outputs": [
    {
     "data": {
      "text/html": [
       "<div>\n",
       "<style scoped>\n",
       "    .dataframe tbody tr th:only-of-type {\n",
       "        vertical-align: middle;\n",
       "    }\n",
       "\n",
       "    .dataframe tbody tr th {\n",
       "        vertical-align: top;\n",
       "    }\n",
       "\n",
       "    .dataframe thead th {\n",
       "        text-align: right;\n",
       "    }\n",
       "</style>\n",
       "<table border=\"1\" class=\"dataframe\">\n",
       "  <thead>\n",
       "    <tr style=\"text-align: right;\">\n",
       "      <th></th>\n",
       "      <th>City</th>\n",
       "      <th>Lat</th>\n",
       "      <th>Lng</th>\n",
       "      <th>Max Temp</th>\n",
       "      <th>Humidity</th>\n",
       "      <th>Cloudiness</th>\n",
       "      <th>Wind Speed</th>\n",
       "      <th>Country</th>\n",
       "      <th>Date</th>\n",
       "    </tr>\n",
       "  </thead>\n",
       "  <tbody>\n",
       "    <tr>\n",
       "      <th>0</th>\n",
       "      <td>Gweta</td>\n",
       "      <td>18.2170</td>\n",
       "      <td>-63.0578</td>\n",
       "      <td>77.83</td>\n",
       "      <td>77</td>\n",
       "      <td>5</td>\n",
       "      <td>10.98</td>\n",
       "      <td>AI</td>\n",
       "      <td>2022-02-02 02:52:02</td>\n",
       "    </tr>\n",
       "    <tr>\n",
       "      <th>1</th>\n",
       "      <td>Bubaque</td>\n",
       "      <td>2.8197</td>\n",
       "      <td>-60.6733</td>\n",
       "      <td>80.58</td>\n",
       "      <td>65</td>\n",
       "      <td>0</td>\n",
       "      <td>11.50</td>\n",
       "      <td>BR</td>\n",
       "      <td>2022-02-02 03:10:48</td>\n",
       "    </tr>\n",
       "  </tbody>\n",
       "</table>\n",
       "</div>"
      ],
      "text/plain": [
       "      City      Lat      Lng  Max Temp  Humidity  Cloudiness  Wind Speed  \\\n",
       "0    Gweta  18.2170 -63.0578     77.83        77           5       10.98   \n",
       "1  Bubaque   2.8197 -60.6733     80.58        65           0       11.50   \n",
       "\n",
       "  Country                 Date  \n",
       "0      AI  2022-02-02 02:52:02  \n",
       "1      BR  2022-02-02 03:10:48  "
      ]
     },
     "execution_count": 117,
     "metadata": {},
     "output_type": "execute_result"
    }
   ],
   "source": [
    "city_data_df.loc[(city_data_df[\"Lat\"] >= 0)]"
   ]
  },
  {
   "cell_type": "code",
   "execution_count": 118,
   "id": "aca75040",
   "metadata": {},
   "outputs": [
    {
     "data": {
      "text/html": [
       "<div>\n",
       "<style scoped>\n",
       "    .dataframe tbody tr th:only-of-type {\n",
       "        vertical-align: middle;\n",
       "    }\n",
       "\n",
       "    .dataframe tbody tr th {\n",
       "        vertical-align: top;\n",
       "    }\n",
       "\n",
       "    .dataframe thead th {\n",
       "        text-align: right;\n",
       "    }\n",
       "</style>\n",
       "<table border=\"1\" class=\"dataframe\">\n",
       "  <thead>\n",
       "    <tr style=\"text-align: right;\">\n",
       "      <th></th>\n",
       "      <th>City</th>\n",
       "      <th>Lat</th>\n",
       "      <th>Lng</th>\n",
       "      <th>Max Temp</th>\n",
       "      <th>Humidity</th>\n",
       "      <th>Cloudiness</th>\n",
       "      <th>Wind Speed</th>\n",
       "      <th>Country</th>\n",
       "      <th>Date</th>\n",
       "    </tr>\n",
       "  </thead>\n",
       "  <tbody>\n",
       "    <tr>\n",
       "      <th>0</th>\n",
       "      <td>Gweta</td>\n",
       "      <td>18.2170</td>\n",
       "      <td>-63.0578</td>\n",
       "      <td>77.83</td>\n",
       "      <td>77</td>\n",
       "      <td>5</td>\n",
       "      <td>10.98</td>\n",
       "      <td>AI</td>\n",
       "      <td>2022-02-02 02:52:02</td>\n",
       "    </tr>\n",
       "    <tr>\n",
       "      <th>1</th>\n",
       "      <td>Bubaque</td>\n",
       "      <td>2.8197</td>\n",
       "      <td>-60.6733</td>\n",
       "      <td>80.58</td>\n",
       "      <td>65</td>\n",
       "      <td>0</td>\n",
       "      <td>11.50</td>\n",
       "      <td>BR</td>\n",
       "      <td>2022-02-02 03:10:48</td>\n",
       "    </tr>\n",
       "  </tbody>\n",
       "</table>\n",
       "</div>"
      ],
      "text/plain": [
       "      City      Lat      Lng  Max Temp  Humidity  Cloudiness  Wind Speed  \\\n",
       "0    Gweta  18.2170 -63.0578     77.83        77           5       10.98   \n",
       "1  Bubaque   2.8197 -60.6733     80.58        65           0       11.50   \n",
       "\n",
       "  Country                 Date  \n",
       "0      AI  2022-02-02 02:52:02  \n",
       "1      BR  2022-02-02 03:10:48  "
      ]
     },
     "execution_count": 118,
     "metadata": {},
     "output_type": "execute_result"
    }
   ],
   "source": [
    "city_data_df.loc[(city_data_df[\"Lat\"] >= 0)].head()"
   ]
  },
  {
   "cell_type": "code",
   "execution_count": 119,
   "id": "916b40fa",
   "metadata": {},
   "outputs": [],
   "source": [
    "# Create Northern and Southern Hemisphere DataFrames.\n",
    "northern_hemi_df = city_data_df.loc[(city_data_df[\"Lat\"] >= 0)]\n",
    "southern_hemi_df = city_data_df.loc[(city_data_df[\"Lat\"] < 0)]"
   ]
  },
  {
   "cell_type": "code",
   "execution_count": 120,
   "id": "13d1bb5c",
   "metadata": {
    "scrolled": true
   },
   "outputs": [
    {
     "data": {
      "image/png": "[encoded data removed]",
      "text/plain": [
       "<Figure size 432x288 with 1 Axes>"
      ]
     },
     "metadata": {
      "needs_background": "light"
     },
     "output_type": "display_data"
    }
   ],
   "source": [
    "# Linear regression on the Northern Hemisphere\n",
    "x_values = northern_hemi_df[\"Lat\"]\n",
    "y_values = northern_hemi_df[\"Max Temp\"]\n",
    "# Call the function.\n",
    "plot_linear_regression(x_values, y_values,\n",
    "                       'Linear Regression on the Northern Hemisphere \\\n",
    "                        for Maximum Temperature', 'Max Temp',(10,40))"
   ]
  },
  {
   "cell_type": "code",
   "execution_count": 124,
   "id": "ba0c7e47",
   "metadata": {
    "scrolled": true
   },
   "outputs": [
    {
     "ename": "SyntaxError",
     "evalue": "EOL while scanning string literal (3837824748.py, line 6)",
     "output_type": "error",
     "traceback": [
      "\u001b[0;36m  File \u001b[0;32m\"/var/folders/v9/sdcqvkz116dfb_40vwh18bsw0000gn/T/ipykernel_27292/3837824748.py\"\u001b[0;36m, line \u001b[0;32m6\u001b[0m\n\u001b[0;31m    'Linear Regression on the Southern Hemisphere \\n\u001b[0m\n\u001b[0m                                                    ^\u001b[0m\n\u001b[0;31mSyntaxError\u001b[0m\u001b[0;31m:\u001b[0m EOL while scanning string literal\n"
     ]
    }
   ],
   "source": [
    "# Linear regression on the Northern Hemisphere\n",
    "x_values = southern_hemi_df[\"Lat\"]\n",
    "y_values = southern_hemi_df[\"Max Temp\"]\n",
    "# Call the function.\n",
    "plot_linear_regression(x_values, y_values,\n",
    "                       'Linear Regression on the Southern Hemisphere \\n\n",
    "                        for Maximum Temperature', 'Max Temp',(-50,90))"
   ]
  },
  {
   "cell_type": "code",
   "execution_count": 125,
   "id": "74583935",
   "metadata": {
    "scrolled": false
   },
   "outputs": [
    {
     "data": {
      "image/png": "[encoded data removed]",
      "text/plain": [
       "<Figure size 432x288 with 1 Axes>"
      ]
     },
     "metadata": {
      "needs_background": "light"
     },
     "output_type": "display_data"
    }
   ],
   "source": [
    "# Linear regression on the Northern Hemisphere\n",
    "x_values = northern_hemi_df[\"Lat\"]\n",
    "y_values = northern_hemi_df[\"Humidity\"]\n",
    "# Call the function.\n",
    "plot_linear_regression(x_values, y_values,\n",
    "                       'Linear Regression on the Northern Hemisphere \\\n",
    "                        for % Humidity', '% Humidity',(40,10))"
   ]
  },
  {
   "cell_type": "code",
   "execution_count": 121,
   "id": "b82dbd4d",
   "metadata": {
    "scrolled": true
   },
   "outputs": [
    {
     "ename": "ValueError",
     "evalue": "Inputs must not be empty.",
     "output_type": "error",
     "traceback": [
      "\u001b[0;31m---------------------------------------------------------------------------\u001b[0m",
      "\u001b[0;31mValueError\u001b[0m                                Traceback (most recent call last)",
      "\u001b[0;32m/var/folders/v9/sdcqvkz116dfb_40vwh18bsw0000gn/T/ipykernel_27292/2262296464.py\u001b[0m in \u001b[0;36m<module>\u001b[0;34m\u001b[0m\n\u001b[1;32m      4\u001b[0m \u001b[0;31m# Call the function.\u001b[0m\u001b[0;34m\u001b[0m\u001b[0;34m\u001b[0m\u001b[0;34m\u001b[0m\u001b[0m\n\u001b[1;32m      5\u001b[0m plot_linear_regression(x_values, y_values,\n\u001b[0;32m----> 6\u001b[0;31m 'Linear Regression on the Southern Hemisphere \\ for % Humidity', '% Humidity',(-50,15))\n\u001b[0m",
      "\u001b[0;32m/var/folders/v9/sdcqvkz116dfb_40vwh18bsw0000gn/T/ipykernel_27292/2956860503.py\u001b[0m in \u001b[0;36mplot_linear_regression\u001b[0;34m(x_values, y_values, title, y_label, text_coordinates)\u001b[0m\n\u001b[1;32m      7\u001b[0m \u001b[0;34m\u001b[0m\u001b[0m\n\u001b[1;32m      8\u001b[0m     \u001b[0;31m# Run regression on hemisphere weather data.\u001b[0m\u001b[0;34m\u001b[0m\u001b[0;34m\u001b[0m\u001b[0;34m\u001b[0m\u001b[0m\n\u001b[0;32m----> 9\u001b[0;31m     \u001b[0;34m(\u001b[0m\u001b[0mslope\u001b[0m\u001b[0;34m,\u001b[0m \u001b[0mintercept\u001b[0m\u001b[0;34m,\u001b[0m \u001b[0mr_value\u001b[0m\u001b[0;34m,\u001b[0m \u001b[0mp_value\u001b[0m\u001b[0;34m,\u001b[0m \u001b[0mstd_err\u001b[0m\u001b[0;34m)\u001b[0m \u001b[0;34m=\u001b[0m \u001b[0mlinregress\u001b[0m\u001b[0;34m(\u001b[0m\u001b[0mx_values\u001b[0m\u001b[0;34m,\u001b[0m \u001b[0my_values\u001b[0m\u001b[0;34m)\u001b[0m\u001b[0;34m\u001b[0m\u001b[0;34m\u001b[0m\u001b[0m\n\u001b[0m\u001b[1;32m     10\u001b[0m \u001b[0;34m\u001b[0m\u001b[0m\n\u001b[1;32m     11\u001b[0m     \u001b[0;31m# Calculate the regression line \"y values\" from the slope and intercept.\u001b[0m\u001b[0;34m\u001b[0m\u001b[0;34m\u001b[0m\u001b[0;34m\u001b[0m\u001b[0m\n",
      "\u001b[0;32m~/opt/anaconda3/envs/PythonData/lib/python3.7/site-packages/scipy/stats/_stats_mstats_common.py\u001b[0m in \u001b[0;36mlinregress\u001b[0;34m(x, y, alternative)\u001b[0m\n\u001b[1;32m    144\u001b[0m \u001b[0;34m\u001b[0m\u001b[0m\n\u001b[1;32m    145\u001b[0m     \u001b[0;32mif\u001b[0m \u001b[0mx\u001b[0m\u001b[0;34m.\u001b[0m\u001b[0msize\u001b[0m \u001b[0;34m==\u001b[0m \u001b[0;36m0\u001b[0m \u001b[0;32mor\u001b[0m \u001b[0my\u001b[0m\u001b[0;34m.\u001b[0m\u001b[0msize\u001b[0m \u001b[0;34m==\u001b[0m \u001b[0;36m0\u001b[0m\u001b[0;34m:\u001b[0m\u001b[0;34m\u001b[0m\u001b[0;34m\u001b[0m\u001b[0m\n\u001b[0;32m--> 146\u001b[0;31m         \u001b[0;32mraise\u001b[0m \u001b[0mValueError\u001b[0m\u001b[0;34m(\u001b[0m\u001b[0;34m\"Inputs must not be empty.\"\u001b[0m\u001b[0;34m)\u001b[0m\u001b[0;34m\u001b[0m\u001b[0;34m\u001b[0m\u001b[0m\n\u001b[0m\u001b[1;32m    147\u001b[0m \u001b[0;34m\u001b[0m\u001b[0m\n\u001b[1;32m    148\u001b[0m     \u001b[0mn\u001b[0m \u001b[0;34m=\u001b[0m \u001b[0mlen\u001b[0m\u001b[0;34m(\u001b[0m\u001b[0mx\u001b[0m\u001b[0;34m)\u001b[0m\u001b[0;34m\u001b[0m\u001b[0;34m\u001b[0m\u001b[0m\n",
      "\u001b[0;31mValueError\u001b[0m: Inputs must not be empty."
     ]
    }
   ],
   "source": [
    "# Linear regression on the Southern Hemisphere\n",
    "x_values = southern_hemi_df[\"Lat\"]\n",
    "y_values = southern_hemi_df[\"Humidity\"]\n",
    "# Call the function.\n",
    "plot_linear_regression(x_values, y_values,\n",
    "'Linear Regression on the Southern Hemisphere \\ for % Humidity', '% Humidity',(-50,15))"
   ]
  },
  {
   "cell_type": "code",
   "execution_count": 126,
   "id": "0d4678f9",
   "metadata": {
    "scrolled": true
   },
   "outputs": [
    {
     "ename": "SyntaxError",
     "evalue": "EOL while scanning string literal (133713784.py, line 6)",
     "output_type": "error",
     "traceback": [
      "\u001b[0;36m  File \u001b[0;32m\"/var/folders/v9/sdcqvkz116dfb_40vwh18bsw0000gn/T/ipykernel_27292/133713784.py\"\u001b[0;36m, line \u001b[0;32m6\u001b[0m\n\u001b[0;31m    'Linear Regression on the Southern Hemisphere \\n\u001b[0m\n\u001b[0m                                                    ^\u001b[0m\n\u001b[0;31mSyntaxError\u001b[0m\u001b[0;31m:\u001b[0m EOL while scanning string literal\n"
     ]
    }
   ],
   "source": [
    "# Linear regression on the Southern Hemisphere\n",
    "x_values = southern_hemi_df[\"Lat\"]\n",
    "y_values = southern_hemi_df[\"Humidity\"]\n",
    "# Call the function.\n",
    "plot_linear_regression(x_values, y_values,\n",
    "                       'Linear Regression on the Southern Hemisphere \\n\n",
    "                        for % Humidity', '% Humidity',(-50,15))"
   ]
  },
  {
   "cell_type": "code",
   "execution_count": 102,
   "id": "fa4f72c3",
   "metadata": {
    "scrolled": false
   },
   "outputs": [
    {
     "data": {
      "image/png": "[encoded data removed]",
      "text/plain": [
       "<Figure size 432x288 with 1 Axes>"
      ]
     },
     "metadata": {
      "needs_background": "light"
     },
     "output_type": "display_data"
    }
   ],
   "source": [
    "# Linear regression on the Northern Hemisphere\n",
    "x_values = northern_hemi_df[\"Lat\"]\n",
    "y_values = northern_hemi_df[\"Wind Speed\"]\n",
    "# Call the function.\n",
    "plot_linear_regression(x_values, y_values,\n",
    "                       'Linear Regression on the Northern Hemisphere \\n for Wind Speed', 'Wind Speed',(40,35))"
   ]
  },
  {
   "cell_type": "code",
   "execution_count": 127,
   "id": "63387e80",
   "metadata": {},
   "outputs": [
    {
     "ename": "SyntaxError",
     "evalue": "EOL while scanning string literal (2765030047.py, line 6)",
     "output_type": "error",
     "traceback": [
      "\u001b[0;36m  File \u001b[0;32m\"/var/folders/v9/sdcqvkz116dfb_40vwh18bsw0000gn/T/ipykernel_27292/2765030047.py\"\u001b[0;36m, line \u001b[0;32m6\u001b[0m\n\u001b[0;31m    'Linear Regression on the Southern Hemisphere \\n\u001b[0m\n\u001b[0m                                                    ^\u001b[0m\n\u001b[0;31mSyntaxError\u001b[0m\u001b[0;31m:\u001b[0m EOL while scanning string literal\n"
     ]
    }
   ],
   "source": [
    "# Linear regression on the Southern Hemisphere\n",
    "x_values = southern_hemi_df[\"Lat\"]\n",
    "y_values = southern_hemi_df[\"Cloudiness\"]\n",
    "# Call the function.\n",
    "plot_linear_regression(x_values, y_values,\n",
    "                       'Linear Regression on the Southern Hemisphere \\n\n",
    "                        for % Cloudiness', '% Cloudiness',(-50,60))"
   ]
  },
  {
   "cell_type": "code",
   "execution_count": null,
   "id": "d3f69087",
   "metadata": {},
   "outputs": [],
   "source": []
  }
 ],
 "metadata": {
  "kernelspec": {
   "display_name": "PythonData",
   "language": "python",
   "name": "pythondata"
  },
  "language_info": {
   "codemirror_mode": {
    "name": "ipython",
    "version": 3
   },
   "file_extension": ".py",
   "mimetype": "text/x-python",
   "name": "python",
   "nbconvert_exporter": "python",
   "pygments_lexer": "ipython3",
   "version": "3.7.11"
  }
 },
 "nbformat": 4,
 "nbformat_minor": 5
}
